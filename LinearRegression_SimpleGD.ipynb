{
 "cells": [
  {
   "cell_type": "code",
   "execution_count": 1,
   "id": "6d606186-c4c6-4815-b9a5-79d2b773c138",
   "metadata": {},
   "outputs": [],
   "source": [
    "# @forward pass\n",
    "# loss fn\n",
    "# gradients\n",
    "# updating gradients\n",
    "# y^ = X.W + b\n",
    "# error = y^- y\n",
    "# J = (1/2m) * Σ(error**2)\n",
    "# dw = 1/m * Σ(X.T * error)\n",
    "# db = 1/m * Σ(error)\n",
    "# w = w - alpha * dw\n",
    "# b = b - alpha * db"
   ]
  },
  {
   "cell_type": "code",
   "execution_count": 7,
   "id": "5bc7190f-2f17-4b41-abed-344724656795",
   "metadata": {},
   "outputs": [],
   "source": [
    "import numpy as np\n",
    "\n",
    "class LinearRegression:\n",
    "    #init, fit, predict\n",
    "    def __init__(self, alpha = 0.1, iterations = 1000):\n",
    "        self.alpha = alpha\n",
    "        self.iterations = iterations\n",
    "        self.weights = None\n",
    "        self.bias = None\n",
    "\n",
    "    def fit(self, X, y):\n",
    "        n_instances, n_features = X.shape\n",
    "        self.weights = np.zeros(n_features)\n",
    "        self.bias = 0\n",
    "        for i in range(self.iterations):\n",
    "            #forward pass\n",
    "            pred_y = np.dot(X, self.weights) + self.bias\n",
    "            #error\n",
    "            error = pred_y - y\n",
    "            #loss\n",
    "            loss = np.mean(error**2)\n",
    "            if i%1000 == 0:\n",
    "                print(f\"loss at {i} iteration is {loss}\")\n",
    "            #gradients\n",
    "            dw = np.dot(X.T, error) / n_instances\n",
    "            db = np.sum(error) /n_instances\n",
    "            #gradient update\n",
    "            self.weights = self.weights - self.alpha * dw\n",
    "            self.bias = self.bias - self.alpha * db\n",
    "\n",
    "    def predict(self, X):\n",
    "        return np.dot(X, self.weights) + self.bias\n",
    "            \n",
    "            "
   ]
  },
  {
   "cell_type": "code",
   "execution_count": 8,
   "id": "aaf7cbff-81b9-44d2-b7ff-a11c99e1da34",
   "metadata": {},
   "outputs": [],
   "source": [
    "from sklearn.datasets import load_diabetes\n",
    "import pandas as pd\n",
    "from sklearn.model_selection import train_test_split\n",
    "\n",
    "data = load_diabetes(as_frame=True)\n",
    "df = data.frame\n",
    "\n",
    "X = df.drop(columns=[\"target\"]).values\n",
    "y = df[\"target\"].values\n",
    "\n",
    "X_train, X_test, y_train, y_test = train_test_split(X, y, test_size=0.2, random_state=42)"
   ]
  },
  {
   "cell_type": "code",
   "execution_count": 9,
   "id": "f15d3ff4-9d77-4e04-b49b-cb21d1bbaedf",
   "metadata": {},
   "outputs": [
    {
     "name": "stdout",
     "output_type": "stream",
     "text": [
      "loss at 0 iteration is 29711.32294617564\n",
      "loss at 1000 iteration is 4008.446876737857\n",
      "loss at 2000 iteration is 3443.577918490817\n",
      "loss at 3000 iteration is 3214.7373024153208\n",
      "loss at 4000 iteration is 3094.0715404302573\n",
      "loss at 5000 iteration is 3022.883922921272\n",
      "loss at 6000 iteration is 2979.024610480903\n",
      "loss at 7000 iteration is 2951.4107485581694\n",
      "loss at 8000 iteration is 2933.7448439816944\n",
      "loss at 9000 iteration is 2922.2725655888\n"
     ]
    },
    {
     "data": {
      "text/plain": [
       "array([142.6302984 , 177.20486571, 141.80764598, 289.4203295 ,\n",
       "       124.91078374,  98.61468745, 252.10688087, 191.55248404,\n",
       "        88.41342437, 115.47377347,  96.36088178, 154.81313019,\n",
       "        65.94589262, 209.02420815, 105.54079599, 135.52234042,\n",
       "       223.22697556, 246.25827849, 193.69242364, 213.23282734,\n",
       "       200.6117166 ,  89.42938074,  76.44105239, 188.46120071,\n",
       "       153.95262118, 164.45986524, 187.73749881, 176.24680176,\n",
       "        51.95783925, 117.07065057, 179.72530895,  94.349441  ,\n",
       "       133.32434145, 181.91734578, 173.0727751 , 189.56252606,\n",
       "       126.94837779, 123.68325753, 152.72348896,  61.44699847,\n",
       "        81.66610406, 112.12475683, 158.76526185, 153.75551598,\n",
       "       173.69280551,  66.10559619,  82.62400755, 106.033354  ,\n",
       "        61.8114628 , 154.91951309, 152.68083722,  65.89075468,\n",
       "       116.87810138, 109.79443004, 169.6528556 , 154.73169551,\n",
       "        98.78389552, 203.01842262, 115.27793949,  69.01949261,\n",
       "       183.19516116, 195.93706305, 141.38339331, 111.70735585,\n",
       "       126.47397047, 197.19154438, 168.37528539, 160.18052212,\n",
       "       112.81378423, 140.21770358, 178.20377919, 195.67366136,\n",
       "       238.95719488, 141.9965111 ,  83.05477384, 151.13522909,\n",
       "       195.80217362, 199.76065029, 159.96721858, 194.35186288,\n",
       "       115.94168335, 130.86619381,  55.25253555,  60.77605695,\n",
       "       113.07622935,  88.63387136,  78.41151395,  64.16396037,\n",
       "       158.13385766])"
      ]
     },
     "execution_count": 9,
     "metadata": {},
     "output_type": "execute_result"
    }
   ],
   "source": [
    "model = LinearRegression(iterations = 10000)\n",
    "model.fit(X_train, y_train)\n",
    "y_pred = model.predict(X_test)\n",
    "y_pred"
   ]
  },
  {
   "cell_type": "code",
   "execution_count": 10,
   "id": "006365bc-5bd3-4f2b-be01-b9297a7a2926",
   "metadata": {},
   "outputs": [
    {
     "data": {
      "text/plain": [
       "array([139.5475584 , 179.51720835, 134.03875572, 291.41702925,\n",
       "       123.78965872,  92.1723465 , 258.23238899, 181.33732057,\n",
       "        90.22411311, 108.63375858,  94.13865744, 168.43486358,\n",
       "        53.5047888 , 206.63081659, 100.12925869, 130.66657085,\n",
       "       219.53071499, 250.7803234 , 196.3688346 , 218.57511815,\n",
       "       207.35050182,  88.48340941,  70.43285917, 188.95914235,\n",
       "       154.8868162 , 159.36170122, 188.31263363, 180.39094033,\n",
       "        47.99046561, 108.97453871, 174.77897633,  86.36406656,\n",
       "       132.95761215, 184.53819483, 173.83220911, 190.35858492,\n",
       "       124.4156176 , 119.65110656, 147.95168682,  59.05405241,\n",
       "        71.62331856, 107.68284704, 165.45365458, 155.00975931,\n",
       "       171.04799096,  61.45761356,  71.66672581, 114.96732206,\n",
       "        51.57975523, 167.57599528, 152.52291955,  62.95568515,\n",
       "       103.49741722, 109.20751489, 175.64118426, 154.60296242,\n",
       "        94.41704366, 210.74209145, 120.2566205 ,  77.61585399,\n",
       "       187.93203995, 206.49337474, 140.63167076, 105.59678023,\n",
       "       130.70432536, 202.18534537, 171.13039501, 164.91423047,\n",
       "       124.72472569, 144.81030894, 181.99635452, 199.41369642,\n",
       "       234.21436188, 145.95665512,  79.86703276, 157.36941275,\n",
       "       192.74412541, 208.89814032, 158.58722555, 206.02195855,\n",
       "       107.47971675, 140.93598906,  54.82129332,  55.92573195,\n",
       "       115.01180018,  78.95584188,  81.56087285,  54.37997256,\n",
       "       166.2543518 ])"
      ]
     },
     "execution_count": 10,
     "metadata": {},
     "output_type": "execute_result"
    }
   ],
   "source": [
    "from sklearn.linear_model import LinearRegression\n",
    "model = LinearRegression()\n",
    "model.fit(X_train, y_train)\n",
    "y_pred = model.predict(X_test)\n",
    "y_pred"
   ]
  },
  {
   "cell_type": "code",
   "execution_count": null,
   "id": "07e05286-05ce-4565-86ac-52d5e39900b4",
   "metadata": {},
   "outputs": [],
   "source": []
  }
 ],
 "metadata": {
  "kernelspec": {
   "display_name": "Python 3 (ipykernel)",
   "language": "python",
   "name": "python3"
  },
  "language_info": {
   "codemirror_mode": {
    "name": "ipython",
    "version": 3
   },
   "file_extension": ".py",
   "mimetype": "text/x-python",
   "name": "python",
   "nbconvert_exporter": "python",
   "pygments_lexer": "ipython3",
   "version": "3.10.0"
  }
 },
 "nbformat": 4,
 "nbformat_minor": 5
}
